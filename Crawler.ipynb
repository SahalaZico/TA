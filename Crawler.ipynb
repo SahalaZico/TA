{
 "cells": [
  {
   "cell_type": "code",
   "execution_count": 5,
   "metadata": {},
   "outputs": [
    {
     "name": "stdout",
     "output_type": "stream",
     "text": [
      "+ Backpropagation neural networks training for EEG-SSVEP classification of emotion recognition\n",
      "+ Comparison of document similarity in information retrieval system by different formulation\n",
      "+ Automated hydroponics nutrition plants systems using arduino uno microcontroller based on android\n",
      "+ Designing A Ttl Voltage Level Logic Probe By Using Common Anode Seven Segment Display And An Inverting Logic Gate On Proteus Isis 7 Professional\n",
      "+ Designing Learning Media Of Control Based On Micro Controller 8051 By Using The Mcu 8051 Ide To Support The Implementation Of Active Learning In Higher Education-Alfhe (Active …\n",
      "+ Development of building security integration system using sensors, microcontroller and GPS (Global Positioning System) based android smartphone\n",
      "+ Design of extraction method of SSVEP brain activity with IIR Chebyshev\n",
      "+ Perancangan Error Detection System And Error Correction System Menggunakan Metode Hamming Code Pada Pengiriman Data Text\n",
      "+ A teaching media of using the busy bit and SDCC in displaying character string on LCD in MCU 8051 IDE\n",
      "+ Microcontroller based automatic temperature control for oyster mushroom plants\n",
      "+ Optimalisasi Pemanfaatan Teknologi Informasi dan Komunikasi (ICT) sebagai Peluang di Era Globalisasi Ekonomi\n",
      "+ Keyword Competition Approach in Ranked Document Retrieval\n",
      "+ Application of Genetic Algorithm to Determine a Document Similarity Level in IRS\n",
      "+ Optimizing the 802.11 hotspot performances by using load and resource balancing method\n",
      "+ Classification of ECG signal with Support Vector Machine Method for Arrhythmia Detection\n",
      "+ Artifacts Reduction of EEG-SSVEP Signals for Emotion Detection with Robust Principal Component Analysis\n",
      "+ Distributed factorization computation on multiple volunteered mobile resource to break RSA key\n",
      "+ Prototipe Robot Line Follower untuk Simulasi Taksi Wisata Otomatis Kota Medan Menggunakan Algoritma Fuzzy\n",
      "+ Implementasi SMS Gateway Untuk Layanan Informasi Absensi Pegawai (Studi Kasus CV. Utama Teknik Jaya)\n",
      "+ Sistem Temu-Kembali Informasi Menggunakan Jaringan Syaraf Tiruan Dengan Beberapa Ukuran Kemiripan\n"
     ]
    }
   ],
   "source": [
    "##Simple Scrap from google scholar\n",
    "\n",
    "import requests\n",
    "from nltk.tokenize import word_tokenize\n",
    "from bs4 import BeautifulSoup\n",
    "\n",
    "def web(page,WebUrl):\n",
    "    if(page>0):\n",
    "        url = WebUrl\n",
    "        code = requests.get(url)\n",
    "        plain = code.text\n",
    "        s = BeautifulSoup(plain, \"html.parser\")\n",
    "        for link in s.findAll('a', {'class':'gsc_a_at'}):\n",
    "            print(\"+ \" + link.text)\n",
    "web(1,'https://scholar.google.com/citations?hl=en&user=2lSr9cYAAAAJ')"
   ]
  },
  {
   "cell_type": "code",
   "execution_count": 6,
   "metadata": {},
   "outputs": [
    {
     "name": "stdout",
     "output_type": "stream",
     "text": [
      "Dr. Poltak Sihombing M.Kom.\n",
      "NIP 196203171991031001\n",
      "NIDN 0017036205\n",
      "IV/a\n",
      "Ilmu Komputer\n",
      "Fakultas Ilmu Komputer dan Teknologi Informasi\n",
      "poltak@usu.ac.id\n",
      "poltakhombing@yahoo.com\n",
      "http://sinta2.ristekdikti.go.id/authors/detail?view=overview&id=260396\n",
      "https://www.scopus.com/authid/detail.uri?authorId=\n"
     ]
    }
   ],
   "source": [
    "##Simple Scrap in dirdosen usu website\n",
    "nidn = ['0017036205']\n",
    "import requests\n",
    "from bs4 import BeautifulSoup\n",
    "def web(page,WebUrl):\n",
    "        url = WebUrl\n",
    "        code = requests.get(url)\n",
    "        plain = code.text\n",
    "        s = BeautifulSoup(plain, \"html.parser\")\n",
    "        namadosen = s.find('h3', {'id':'namadosen'}).text\n",
    "        nipdosen = s.find('h4', {'id':'nipdosen'}).text\n",
    "        nidndosen = s.find('h4', {'id':'nidndosen'}).text\n",
    "        golongan = s.find('h4', {'id':'panggol'}).text\n",
    "        jabatan = s.find('h4', {'id':'fungsional'}).text\n",
    "        prodi = s.find('h4', {'id':'prodi'}).text\n",
    "        fakultas = s.find('h4', {'id':'fakultas'}).text\n",
    "        emailusu = s.find('h4', {'id':'emailusu'}).text\n",
    "        emaillain = s.find('h4', {'id':'emaillain'}).text\n",
    "        sintaprofile = s.find('a', {'id':'sintaprofile'})['href']\n",
    "        scopusprofile = s.find('a', {'id':'scopusprofile'})['href']\n",
    "        print(namadosen)\n",
    "        print(nipdosen)\n",
    "        print(nidndosen)\n",
    "        print(golongan)\n",
    "        print(prodi)\n",
    "        print(fakultas)\n",
    "        print(emailusu)\n",
    "        print(emaillain)\n",
    "        print(sintaprofile)\n",
    "        print(scopusprofile)\n",
    "\n",
    "\n",
    "web(1,'http://dirdosen.usu.ac.id/telusur/nidn/'+nidn[0])"
   ]
  },
  {
   "cell_type": "code",
   "execution_count": 4,
   "metadata": {},
   "outputs": [],
   "source": [
    "##Scrap with user input in google scholar\n",
    "from nltk.tokenize import word_tokenize\n",
    "import requests\n",
    "from bs4 import BeautifulSoup\n",
    "\n",
    "def web(page,WebUrl):\n",
    "    if(page>0):\n",
    "        url = WebUrl\n",
    "        code = requests.get(url)\n",
    "        plain = code.text\n",
    "        s = BeautifulSoup(plain, \"html.parser\")\n",
    "        for link in s.findAll('a', {'class':'gsc_a_at'}):\n",
    "            print('+ ' + link.text)\n",
    "\n",
    "def find_profile(url):\n",
    "    \n",
    "    link_profile = []\n",
    "    code = requests.get(url)\n",
    "    plain = code.text\n",
    "    s = BeautifulSoup(plain, \"html.parser\")\n",
    "    \n",
    "    \n",
    "    for link in s.findAll('h4', {'class':'gs_rt2'}):\n",
    "        link_profile.append(link.a['href'])\n",
    "        \n",
    "        \n",
    "    for link in link_profile:\n",
    "        base_url = \"https://scholar.google.com\"+link\n",
    "        \n",
    "        web(1,base_url)\n",
    "        \n",
    "def find_research(researcher):\n",
    "    token_name = word_tokenize(researcher)\n",
    "    print(token_name)\n",
    "    base_url = \"https://scholar.google.com/scholar?hl=en&as_sdt=0%2C5&q=\"\n",
    "    for name in token_name:\n",
    "        base_url = base_url + \"+\" + name\n",
    "    base_url = base_url + \"&btnG=\"\n",
    "    print(base_url)\n",
    "    \n",
    "    #crawl\n",
    "    find_profile(base_url)"
   ]
  },
  {
   "cell_type": "code",
   "execution_count": null,
   "metadata": {},
   "outputs": [],
   "source": []
  }
 ],
 "metadata": {
  "kernelspec": {
   "display_name": "Python 3",
   "language": "python",
   "name": "python3"
  },
  "language_info": {
   "codemirror_mode": {
    "name": "ipython",
    "version": 3
   },
   "file_extension": ".py",
   "mimetype": "text/x-python",
   "name": "python",
   "nbconvert_exporter": "python",
   "pygments_lexer": "ipython3",
   "version": "3.6.5"
  }
 },
 "nbformat": 4,
 "nbformat_minor": 2
}
